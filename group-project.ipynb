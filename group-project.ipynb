{
 "cells": [
  {
   "cell_type": "markdown",
   "id": "fab6ebd6-262e-4a41-855c-2583536028da",
   "metadata": {},
   "source": [
    "**Group Members:** Jojo Hu (47939335), (TODO: add your names)"
   ]
  },
  {
   "cell_type": "code",
   "execution_count": 18,
   "id": "ed9f3920-8913-4110-b43d-4cc00f4d301e",
   "metadata": {},
   "outputs": [],
   "source": [
    "library(tidyverse)\n",
    "library(tidymodels)"
   ]
  },
  {
   "cell_type": "markdown",
   "id": "d67b82ce-106d-4603-a1c8-47998a12c171",
   "metadata": {},
   "source": [
    "# Introduction"
   ]
  },
  {
   "cell_type": "markdown",
   "id": "a1b5a47a-b0db-4b3f-9b88-6c2426c7a49f",
   "metadata": {},
   "source": [
    "## Background Information\n",
    "A UBC Computer Science research group, led by Frank Wood, is studying how people play Minecraft by collecting player activity data from a specific server. To run the project effectively, they need to recruit the right players and manage various software and hardware resources. They want to know \"kinds\" of players are most likely to contribute a large amount of data so that they can target those players in their recruiting efforts.\n",
    "\n",
    "## Research Question\n",
    "We want to know: can we predict total playtime based on player age and newsletter subscription status? We will investigate this research question using KNN regression on the `players.csv` dataset\n",
    "\n",
    "## Dataset\n",
    "First, we load the data, taking care to convert the `experience` and `gender` columns to factors."
   ]
  },
  {
   "cell_type": "code",
   "execution_count": 7,
   "id": "3ce3a259-68da-4083-a587-e1f9f3fb3660",
   "metadata": {},
   "outputs": [
    {
     "name": "stderr",
     "output_type": "stream",
     "text": [
      "\u001b[1mRows: \u001b[22m\u001b[34m196\u001b[39m \u001b[1mColumns: \u001b[22m\u001b[34m7\u001b[39m\n",
      "\u001b[36m──\u001b[39m \u001b[1mColumn specification\u001b[22m \u001b[36m────────────────────────────────────────────────────────\u001b[39m\n",
      "\u001b[1mDelimiter:\u001b[22m \",\"\n",
      "\u001b[31mchr\u001b[39m (4): experience, hashedEmail, name, gender\n",
      "\u001b[32mdbl\u001b[39m (2): played_hours, Age\n",
      "\u001b[33mlgl\u001b[39m (1): subscribe\n",
      "\n",
      "\u001b[36mℹ\u001b[39m Use `spec()` to retrieve the full column specification for this data.\n",
      "\u001b[36mℹ\u001b[39m Specify the column types or set `show_col_types = FALSE` to quiet this message.\n"
     ]
    },
    {
     "data": {
      "text/plain": [
       "\n",
       "          Agender            Female              Male        Non-binary \n",
       "                2                37               124                15 \n",
       "            Other Prefer not to say      Two-Spirited \n",
       "                1                11                 6 "
      ]
     },
     "metadata": {},
     "output_type": "display_data"
    },
    {
     "data": {
      "text/plain": [
       "\n",
       "Beginner  Amateur  Regular      Pro  Veteran \n",
       "      35       63       36       14       48 "
      ]
     },
     "metadata": {},
     "output_type": "display_data"
    }
   ],
   "source": [
    "players <- read_csv(\"https://raw.githubusercontent.com/Yh194/ubc-dsci100-21/refs/heads/main/data/players.csv\") |>\n",
    "    mutate(across(c(experience, gender), as.factor))\n",
    "# order experience levels\n",
    "players$experience <- factor(players$experience, levels = c('Beginner', 'Amateur', 'Regular', 'Pro', 'Veteran'))\n",
    "\n",
    "# list possible values for factors and their distribution\n",
    "table(players$gender)\n",
    "table(players$experience)"
   ]
  },
  {
   "cell_type": "markdown",
   "id": "90aaed89-b97a-4b1a-804d-8e1364473504",
   "metadata": {},
   "source": [
    "The `players.csv` file is a comma-separated CSV file with 7 columns and 196 rows.\n",
    "\n",
    "### Specification\n",
    "\n",
    "| Column Name      | Data Type | Meaning                                                   | Possible values/constraints                        |\n",
    "|------------------|-----------|-----------------------------------------------------------|----------------------------------------------------|\n",
    "| **experience**   | `fct`     | How much experience the player has in the game            | 'Beginner', 'Amateur', 'Regular', 'Pro', 'Veteran' |\n",
    "| **subscribe**    | `lgl`     | Whether or not the player is subscribed to the newsletter |                                                    |\n",
    "| **hashedEmail**  | `chr`     | The hash of the player's email, serving as a unique ID    |                                                    |\n",
    "| **played_hours** | `dbl`     | The number of hours the player has played for             | Non-negative                                       |\n",
    "| **name**         | `chr`     | The player's name                                         |                                                    |\n",
    "| **gender**       | `fct`     | The player's gender                                       | 'Male', 'Female', 'Non-binary', 'Prefer not to say', 'Agender', 'Two-Spirited', 'Other' |\n",
    "| **Age**          | `dbl`     | The player's age                                          | Non-negative                                       |\n",
    "\n",
    "### Irrelevant Variables\n",
    "`name` and `hashedEmail` are unique for each player, so they are not useful in our analysis.\n",
    "\n",
    "### Potential Issues\n",
    "- Played hours may be inaccurate because players might stay idle/AFK within the game, which would lead to an artificially inflated playtime\n",
    "- Some players have disproportionately high playtime compared to others, which could skew averages\n",
    "- Players could lie about or omit information such as age, gender, etc.\n",
    "- There are a lot more male players (124) compared to other genders, which could introduce bias\n",
    "- There are `NA` values present in the age column\n",
    "- Skill level/experience is a very subjective column\n",
    "  - Different people may have different opinions about what level of skill constitutes a \"Pro\" for example\n",
    "  - The ranking is ambiguous, you can guess which value is more skilled than another but it's not clearly defined"
   ]
  },
  {
   "cell_type": "markdown",
   "id": "bd9c6c28-c9cf-4adf-b2eb-0aee1c85ace3",
   "metadata": {},
   "source": [
    "# Methods and Results"
   ]
  },
  {
   "cell_type": "markdown",
   "id": "230b4930-0a6f-4b8b-9e3c-1f76ecc13a3b",
   "metadata": {},
   "source": [
    "The data is already cleaned and wrangled, so we can move on to (TODO)"
   ]
  },
  {
   "cell_type": "code",
   "execution_count": 20,
   "id": "e3c11b77-d710-4711-b34d-a58ff8c0d7ae",
   "metadata": {},
   "outputs": [
    {
     "data": {
      "text/html": [
       "<table class=\"dataframe\">\n",
       "<caption>A tibble: 6 × 6</caption>\n",
       "<thead>\n",
       "\t<tr><th scope=col>played_hours</th><th scope=col>experience_Amateur</th><th scope=col>experience_Regular</th><th scope=col>experience_Pro</th><th scope=col>experience_Veteran</th><th scope=col>subscribe_no</th></tr>\n",
       "\t<tr><th scope=col>&lt;dbl&gt;</th><th scope=col>&lt;dbl&gt;</th><th scope=col>&lt;dbl&gt;</th><th scope=col>&lt;dbl&gt;</th><th scope=col>&lt;dbl&gt;</th><th scope=col>&lt;dbl&gt;</th></tr>\n",
       "</thead>\n",
       "<tbody>\n",
       "\t<tr><td>30.3</td><td>-0.6864892</td><td>-0.47313</td><td> 3.5963417</td><td>-0.5680401</td><td>-0.5993903</td></tr>\n",
       "\t<tr><td> 3.8</td><td>-0.6864892</td><td>-0.47313</td><td>-0.2766417</td><td> 1.7514571</td><td>-0.5993903</td></tr>\n",
       "\t<tr><td> 0.0</td><td>-0.6864892</td><td>-0.47313</td><td>-0.2766417</td><td> 1.7514571</td><td> 1.6598500</td></tr>\n",
       "\t<tr><td> 0.7</td><td> 1.4492550</td><td>-0.47313</td><td>-0.2766417</td><td>-0.5680401</td><td>-0.5993903</td></tr>\n",
       "\t<tr><td> 0.1</td><td>-0.6864892</td><td> 2.10280</td><td>-0.2766417</td><td>-0.5680401</td><td>-0.5993903</td></tr>\n",
       "\t<tr><td> 0.0</td><td> 1.4492550</td><td>-0.47313</td><td>-0.2766417</td><td>-0.5680401</td><td>-0.5993903</td></tr>\n",
       "</tbody>\n",
       "</table>\n"
      ],
      "text/latex": [
       "A tibble: 6 × 6\n",
       "\\begin{tabular}{llllll}\n",
       " played\\_hours & experience\\_Amateur & experience\\_Regular & experience\\_Pro & experience\\_Veteran & subscribe\\_no\\\\\n",
       " <dbl> & <dbl> & <dbl> & <dbl> & <dbl> & <dbl>\\\\\n",
       "\\hline\n",
       "\t 30.3 & -0.6864892 & -0.47313 &  3.5963417 & -0.5680401 & -0.5993903\\\\\n",
       "\t  3.8 & -0.6864892 & -0.47313 & -0.2766417 &  1.7514571 & -0.5993903\\\\\n",
       "\t  0.0 & -0.6864892 & -0.47313 & -0.2766417 &  1.7514571 &  1.6598500\\\\\n",
       "\t  0.7 &  1.4492550 & -0.47313 & -0.2766417 & -0.5680401 & -0.5993903\\\\\n",
       "\t  0.1 & -0.6864892 &  2.10280 & -0.2766417 & -0.5680401 & -0.5993903\\\\\n",
       "\t  0.0 &  1.4492550 & -0.47313 & -0.2766417 & -0.5680401 & -0.5993903\\\\\n",
       "\\end{tabular}\n"
      ],
      "text/markdown": [
       "\n",
       "A tibble: 6 × 6\n",
       "\n",
       "| played_hours &lt;dbl&gt; | experience_Amateur &lt;dbl&gt; | experience_Regular &lt;dbl&gt; | experience_Pro &lt;dbl&gt; | experience_Veteran &lt;dbl&gt; | subscribe_no &lt;dbl&gt; |\n",
       "|---|---|---|---|---|---|\n",
       "| 30.3 | -0.6864892 | -0.47313 |  3.5963417 | -0.5680401 | -0.5993903 |\n",
       "|  3.8 | -0.6864892 | -0.47313 | -0.2766417 |  1.7514571 | -0.5993903 |\n",
       "|  0.0 | -0.6864892 | -0.47313 | -0.2766417 |  1.7514571 |  1.6598500 |\n",
       "|  0.7 |  1.4492550 | -0.47313 | -0.2766417 | -0.5680401 | -0.5993903 |\n",
       "|  0.1 | -0.6864892 |  2.10280 | -0.2766417 | -0.5680401 | -0.5993903 |\n",
       "|  0.0 |  1.4492550 | -0.47313 | -0.2766417 | -0.5680401 | -0.5993903 |\n",
       "\n"
      ],
      "text/plain": [
       "  played_hours experience_Amateur experience_Regular experience_Pro\n",
       "1 30.3         -0.6864892         -0.47313            3.5963417    \n",
       "2  3.8         -0.6864892         -0.47313           -0.2766417    \n",
       "3  0.0         -0.6864892         -0.47313           -0.2766417    \n",
       "4  0.7          1.4492550         -0.47313           -0.2766417    \n",
       "5  0.1         -0.6864892          2.10280           -0.2766417    \n",
       "6  0.0          1.4492550         -0.47313           -0.2766417    \n",
       "  experience_Veteran subscribe_no\n",
       "1 -0.5680401         -0.5993903  \n",
       "2  1.7514571         -0.5993903  \n",
       "3  1.7514571          1.6598500  \n",
       "4 -0.5680401         -0.5993903  \n",
       "5 -0.5680401         -0.5993903  \n",
       "6 -0.5680401         -0.5993903  "
      ]
     },
     "metadata": {},
     "output_type": "display_data"
    }
   ],
   "source": [
    "exp_recipe <- recipe(played_hours ~ experience + subscribe, players) |>\n",
    "    step_bin2factor(subscribe) |>\n",
    "    step_dummy(all_predictors()) |>\n",
    "    step_normalize(all_predictors())\n",
    "\n",
    "# tmp\n",
    "exp_recipe |> prep() |> bake(players) |> head()"
   ]
  },
  {
   "cell_type": "markdown",
   "id": "ed15dc85-031c-4029-ab87-f17c9f8f7bc3",
   "metadata": {},
   "source": [
    "# Discussion"
   ]
  },
  {
   "cell_type": "markdown",
   "id": "b548258c-9076-4dda-9e84-637d378179be",
   "metadata": {},
   "source": [
    "TODO"
   ]
  },
  {
   "cell_type": "markdown",
   "id": "b3338453-157f-4f1c-9e71-d31c6b739648",
   "metadata": {},
   "source": [
    "# References"
   ]
  },
  {
   "cell_type": "markdown",
   "id": "2be5447d-d96e-4791-ba77-fe5f94da5384",
   "metadata": {},
   "source": [
    "TODO (Do we need this section?)"
   ]
  }
 ],
 "metadata": {
  "kernelspec": {
   "display_name": "R",
   "language": "R",
   "name": "ir"
  },
  "language_info": {
   "codemirror_mode": "r",
   "file_extension": ".r",
   "mimetype": "text/x-r-source",
   "name": "R",
   "pygments_lexer": "r",
   "version": "4.3.3"
  }
 },
 "nbformat": 4,
 "nbformat_minor": 5
}
