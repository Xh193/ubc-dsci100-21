{
 "cells": [
  {
   "cell_type": "markdown",
   "id": "fab6ebd6-262e-4a41-855c-2583536028da",
   "metadata": {},
   "source": [
    "**Group Members:** Jojo Hu (47939335), guys add your names"
   ]
  },
  {
   "cell_type": "code",
   "execution_count": 11,
   "id": "ed9f3920-8913-4110-b43d-4cc00f4d301e",
   "metadata": {},
   "outputs": [],
   "source": [
    "library(tidyverse)"
   ]
  },
  {
   "cell_type": "markdown",
   "id": "029cf15d-9875-4591-aa8c-88fccea0c1a8",
   "metadata": {},
   "source": [
    "First, we load the data, taking care to convert the `experience` and `gender` columns to factors."
   ]
  },
  {
   "cell_type": "code",
   "execution_count": 15,
   "id": "3ce3a259-68da-4083-a587-e1f9f3fb3660",
   "metadata": {},
   "outputs": [
    {
     "name": "stderr",
     "output_type": "stream",
     "text": [
      "\u001b[1mRows: \u001b[22m\u001b[34m196\u001b[39m \u001b[1mColumns: \u001b[22m\u001b[34m7\u001b[39m\n",
      "\u001b[36m──\u001b[39m \u001b[1mColumn specification\u001b[22m \u001b[36m────────────────────────────────────────────────────────\u001b[39m\n",
      "\u001b[1mDelimiter:\u001b[22m \",\"\n",
      "\u001b[31mchr\u001b[39m (4): experience, hashedEmail, name, gender\n",
      "\u001b[32mdbl\u001b[39m (2): played_hours, Age\n",
      "\u001b[33mlgl\u001b[39m (1): subscribe\n",
      "\n",
      "\u001b[36mℹ\u001b[39m Use `spec()` to retrieve the full column specification for this data.\n",
      "\u001b[36mℹ\u001b[39m Specify the column types or set `show_col_types = FALSE` to quiet this message.\n"
     ]
    },
    {
     "data": {
      "text/plain": [
       "\n",
       "          Agender            Female              Male        Non-binary \n",
       "                2                37               124                15 \n",
       "            Other Prefer not to say      Two-Spirited \n",
       "                1                11                 6 "
      ]
     },
     "metadata": {},
     "output_type": "display_data"
    },
    {
     "data": {
      "text/plain": [
       "\n",
       "Beginner  Amateur  Regular      Pro  Veteran \n",
       "      35       63       36       14       48 "
      ]
     },
     "metadata": {},
     "output_type": "display_data"
    }
   ],
   "source": [
    "players <- read_csv(\"https://raw.githubusercontent.com/Yh194/ubc-dsci100-21/refs/heads/main/data/players.csv\") |>\n",
    "    mutate(across(c(experience, gender), as.factor))\n",
    "# order experience levels\n",
    "players$experience <- factor(players$experience, levels = c('Beginner', 'Amateur', 'Regular', 'Pro', 'Veteran'))\n",
    "\n",
    "# list possible values for factors and their distribution\n",
    "table(players$gender)\n",
    "table(players$experience)"
   ]
  },
  {
   "cell_type": "markdown",
   "id": "90aaed89-b97a-4b1a-804d-8e1364473504",
   "metadata": {},
   "source": [
    "The `players.csv` file is a comma-separated CSV file with 7 columns and 196 rows.\n",
    "\n",
    "### Specification\n",
    "\n",
    "| Column Name      | Data Type | Meaning                                                   | Possible values/constraints                        |\n",
    "|------------------|-----------|-----------------------------------------------------------|----------------------------------------------------|\n",
    "| **experience**   | `fct`     | How much experience the player has in the game            | 'Beginner', 'Amateur', 'Regular', 'Pro', 'Veteran' |\n",
    "| **subscribe**    | `lgl`     | Whether or not the player is subscribed to the newsletter |                                                    |\n",
    "| **hashedEmail**  | `chr`     | The hash of the player's email, serving as a unique ID    |                                                    |\n",
    "| **played_hours** | `dbl`     | The number of hours the player has played for             | Non-negative                                       |\n",
    "| **name**         | `chr`     | The player's name                                         |                                                    |\n",
    "| **gender**       | `fct`     | The player's gender                                       | 'Male', 'Female', 'Non-binary', 'Prefer not to say', 'Agender', 'Two-Spirited', 'Other' |\n",
    "| **Age**          | `dbl`     | The player's age                                          | Non-negative                                       |\n",
    "\n",
    "### Irrelevant Variables\n",
    "`name` and `hashedEmail` are unique for each player, so they are not useful in our analysis.\n",
    "\n",
    "### Potential Issues\n",
    "- Played hours may be inaccurate because players might stay idle/AFK within the game, which would lead to an artificially inflated playtime\n",
    "- Some players have disproportionately high playtime compared to others, which could skew averages\n",
    "- Players could lie about or omit information such as age, gender, etc.\n",
    "- There are a lot more male players (124) compared to other genders, which could introduce bias\n",
    "- There are `NA` values present in the age column\n",
    "- Skill level/experience is a very subjective column\n",
    "  - Different people may have different opinions about what level of skill constitutes a \"Pro\" for example\n",
    "  - The ranking is ambiguous, you can guess which value is more skilled than another but it's not clearly defined"
   ]
  },
  {
   "cell_type": "code",
   "execution_count": null,
   "id": "04a33723-b09f-41cf-95f6-e1f443b4da43",
   "metadata": {},
   "outputs": [],
   "source": []
  }
 ],
 "metadata": {
  "kernelspec": {
   "display_name": "R",
   "language": "R",
   "name": "ir"
  },
  "language_info": {
   "codemirror_mode": "r",
   "file_extension": ".r",
   "mimetype": "text/x-r-source",
   "name": "R",
   "pygments_lexer": "r",
   "version": "4.3.3"
  }
 },
 "nbformat": 4,
 "nbformat_minor": 5
}
